{
 "cells": [
  {
   "cell_type": "code",
   "execution_count": null,
   "metadata": {},
   "outputs": [],
   "source": [
    "import json\n",
    "import urllib.request"
   ]
  },
  {
   "cell_type": "code",
   "execution_count": null,
   "metadata": {},
   "outputs": [],
   "source": [
    "# 용존산소, 인산염인을 지닌 api\n",
    "\n",
    "key1 = 'qPwOeIrU-2208-01rnrwls-0468' #비공개\n",
    "start_date = '20210101'\n",
    "end_date = '20211231'\n",
    "url1 = f\"https://www.nifs.go.kr/OpenAPI_json?id=sooList&key={key1}&sdate={start_date}&edate={end_date}\""
   ]
  },
  {
   "cell_type": "code",
   "execution_count": null,
   "metadata": {},
   "outputs": [],
   "source": [
    "# 아질산염질소, 용존무기질소를 지닌 api\n",
    "\n",
    "key2 = 'qPwOeIrU-2208-01rnrwls-0467' #비공개\n",
    "url2 = f'https://www.nifs.go.kr/OpenAPI_json?id=femoSeaList&key={key2}&sdate={start_date}&edate={end_date}'"
   ]
  },
  {
   "cell_type": "code",
   "execution_count": null,
   "metadata": {},
   "outputs": [],
   "source": [
    "import requests"
   ]
  },
  {
   "cell_type": "code",
   "execution_count": null,
   "metadata": {},
   "outputs": [],
   "source": [
    "temp1 =requests.get(url1).json()\n",
    "temp2 =requests.get(url2).json()"
   ]
  },
  {
   "cell_type": "code",
   "execution_count": null,
   "metadata": {},
   "outputs": [],
   "source": [
    "temp1"
   ]
  },
  {
   "cell_type": "code",
   "execution_count": null,
   "metadata": {},
   "outputs": [],
   "source": [
    "temp1['body'].keys()"
   ]
  },
  {
   "cell_type": "code",
   "execution_count": null,
   "metadata": {},
   "outputs": [],
   "source": [
    "temp1['body']['item'][0]"
   ]
  },
  {
   "cell_type": "code",
   "execution_count": null,
   "metadata": {},
   "outputs": [],
   "source": [
    "import pandas as pd\n",
    "pd.set_option('display.max_colwidth',None) # 컬럼너비설정\n",
    "pd.set_option('display.max_rows',None) #행 최대 개수 설정"
   ]
  },
  {
   "cell_type": "code",
   "execution_count": null,
   "metadata": {},
   "outputs": [],
   "source": [
    "temp_df1 = pd.DataFrame(temp1['body']['item'])\n",
    "temp_df1.drop(['nut_no3_n','sta_cde','wtr_dep', 'qc_wtr', 'sal', 'qc_sal','qc_dox','nut_no2_n', 'nut_no3_n','nut_sio2_si','nut_ph','wtr_trn','atm','res_vsl_nm'],\n",
    "             axis=1, inplace=True)\n",
    "temp_df1.head()"
   ]
  },
  {
   "cell_type": "code",
   "execution_count": null,
   "metadata": {},
   "outputs": [],
   "source": [
    "temp_df1.columns = ['정선','경도','수온','해역','용존산소','관측일시','인산염인','위도']\n",
    "temp_df1.head()"
   ]
  },
  {
   "cell_type": "code",
   "execution_count": null,
   "metadata": {},
   "outputs": [],
   "source": [
    "temp_df1 = temp_df1.sort_values(by=['관측일시'], ascending = True)\n",
    "temp_df1.head()"
   ]
  },
  {
   "cell_type": "code",
   "execution_count": null,
   "metadata": {},
   "outputs": [],
   "source": [
    "temp_df1.info()"
   ]
  },
  {
   "cell_type": "code",
   "execution_count": null,
   "metadata": {},
   "outputs": [],
   "source": [
    "temp_df1['위도/경도'] = temp_df1[['위도','경도']].apply(\n",
    "    lambda row: ' / '.join(row.values.astype(str)), \n",
    "    axis=1)\n",
    "\n",
    "temp_df1.set_index('위도/경도', inplace=True)\n",
    "temp_df1.drop(['위도','경도'], inplace=True, axis=1)\n"
   ]
  },
  {
   "cell_type": "code",
   "execution_count": null,
   "metadata": {},
   "outputs": [],
   "source": [
    "temp_df1.head(10)"
   ]
  },
  {
   "cell_type": "code",
   "execution_count": null,
   "metadata": {},
   "outputs": [],
   "source": [
    "temp_df1.columns.to_list"
   ]
  },
  {
   "cell_type": "code",
   "execution_count": null,
   "metadata": {},
   "outputs": [],
   "source": [
    "temp_df1 = temp_df1[['정선','관측일시','해역','수온','용존산소','인산염인']]\n",
    "temp_df1.tail()"
   ]
  },
  {
   "cell_type": "code",
   "execution_count": null,
   "metadata": {},
   "outputs": [],
   "source": [
    "temp2"
   ]
  },
  {
   "cell_type": "code",
   "execution_count": null,
   "metadata": {},
   "outputs": [],
   "source": [
    "temp2['body']['item']"
   ]
  },
  {
   "cell_type": "code",
   "execution_count": null,
   "metadata": {},
   "outputs": [],
   "source": [
    "temp_df2 = pd.DataFrame(temp2['body']['item'])\n",
    "temp_df2.head()"
   ]
  },
  {
   "cell_type": "code",
   "execution_count": null,
   "metadata": {},
   "outputs": [],
   "source": [
    "temp_df2.drop(['CHL_B', 'SIL_S', 'SAL_B', 'NH4_N_B', 'M', 'DIP_S', 'DO_B','CHL_S', 'TP_B', 'WEATHER', 'NH4_N_S','SAL_S', 'DIP_B', 'TN_S', 'DEPTH', 'DO_S', 'PH_B', 'KIND', 'COD_B',  'SS_S', 'NO3_N_S', 'COD_S', 'PH_S', 'TN_B', 'SIL_B', 'LOCATION_POINT', 'SS_B','TP_S','NO3_N_B'], \n",
    "              inplace=True, axis =1)\n",
    "temp_df2.head()"
   ]
  },
  {
   "cell_type": "code",
   "execution_count": null,
   "metadata": {},
   "outputs": [],
   "source": [
    "temp_df2.columns.tolist"
   ]
  },
  {
   "cell_type": "code",
   "execution_count": null,
   "metadata": {},
   "outputs": [],
   "source": [
    "temp_df2.columns = ['측정일', '아질산염(저층)','측정월','위도','측정시간','측정분','수온(저층)','아질산염(표층)','용존무기질소(저층)','수온(표층)','용존무기질소(표층)','경도','어장명','측정년']"
   ]
  },
  {
   "cell_type": "code",
   "execution_count": null,
   "metadata": {},
   "outputs": [],
   "source": [
    "temp_df2= temp_df2.sort_index(ascending=False).head()"
   ]
  },
  {
   "cell_type": "code",
   "execution_count": null,
   "metadata": {},
   "outputs": [],
   "source": [
    "temp_df2['임시1'] = temp_df2[['측정년','측정월','측정일']].apply(\n",
    "    lambda row : '-'.join(row.values.astype(str)),\n",
    "    axis=1\n",
    ")\n",
    "\n",
    "temp_df2['임시2'] = temp_df2[['측정시간','측정분']].apply(\n",
    "    lambda row : ':'.join(row.values.astype(str)),\n",
    "    axis=1\n",
    ")\n",
    "\n",
    "temp_df2['측정일시'] = temp_df2[['임시1','임시2']].apply(\n",
    "    lambda row : ' '.join(row.values.astype(str)),\n",
    "    axis=1\n",
    ")\n",
    "\n",
    "\n",
    "\n",
    "temp_df2.drop(['측정년','측정월','측정일','측정시간','측정분','임시1','임시2']\n",
    "              , axis=1, inplace=True)\n",
    "temp_df2.head(3)"
   ]
  },
  {
   "cell_type": "code",
   "execution_count": null,
   "metadata": {},
   "outputs": [],
   "source": [
    "temp_df2.columns.tolist"
   ]
  },
  {
   "cell_type": "code",
   "execution_count": null,
   "metadata": {},
   "outputs": [],
   "source": [
    "temp_df2 = temp_df2[['어장명','위도','경도','측정일시','수온(저층)','수온(표층)','용존무기질소(저층)','용존무기질소(표층)','아질산염(저층)','아질산염(표층)','용존무기질소(저층)','용존무기질소(표층)']]"
   ]
  },
  {
   "cell_type": "code",
   "execution_count": null,
   "metadata": {},
   "outputs": [],
   "source": [
    "temp_df2.head()"
   ]
  },
  {
   "cell_type": "code",
   "execution_count": null,
   "metadata": {},
   "outputs": [],
   "source": []
  },
  {
   "cell_type": "code",
   "execution_count": null,
   "metadata": {},
   "outputs": [],
   "source": []
  },
  {
   "cell_type": "code",
   "execution_count": null,
   "metadata": {},
   "outputs": [],
   "source": []
  }
 ],
 "metadata": {
  "kernelspec": {
   "display_name": "Python 3.10.5 64-bit",
   "language": "python",
   "name": "python3"
  },
  "language_info": {
   "codemirror_mode": {
    "name": "ipython",
    "version": 3
   },
   "file_extension": ".py",
   "mimetype": "text/x-python",
   "name": "python",
   "nbconvert_exporter": "python",
   "pygments_lexer": "ipython3",
   "version": "3.10.5"
  },
  "orig_nbformat": 4,
  "vscode": {
   "interpreter": {
    "hash": "9907b05ad5677b1cfcca22bd1a12faf7a7b5a0b41431806ea6144102cc530b51"
   }
  }
 },
 "nbformat": 4,
 "nbformat_minor": 2
}
