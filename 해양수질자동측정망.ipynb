{
 "cells": [
  {
   "cell_type": "code",
   "execution_count": 15,
   "metadata": {},
   "outputs": [],
   "source": [
    "import pandas as pd\n",
    "pd.set_option('display.max_columns', None)\n",
    "pd.set_option('display.max_colwidth', None)\n",
    "pd.set_option('display.max_rows', None)\n",
    "import warnings\n",
    "warnings.filterwarnings('ignore')"
   ]
  },
  {
   "cell_type": "markdown",
   "metadata": {},
   "source": [
    "---\n",
    "통합"
   ]
  },
  {
   "cell_type": "code",
   "execution_count": 16,
   "metadata": {},
   "outputs": [],
   "source": [
    "path = '../../data/TMSINFO_SENSOR_' # 디렉토리\n",
    "loc = ['새만금','금강하구'] # 인덱스 번호에 따라 확인할 위치 선택\n",
    "col = ['측정소명', '관측일자','염분', '전기전도도', '수온', '수소이온농도', '용존산소량', '탁도', '클로로필A', '일사량', '기온', '풍속', '풍향', '강수량', '화학적산소요구량','총질소', '총인','암모니아성질소', '질산성질소', '인산성인']\n",
    "\n",
    "def make_df():\n",
    "    \n",
    "    # 2017, 2018년 자료\n",
    "    df_1718y = pd.DataFrame() # 1~12월 합치기위한 빈 df\n",
    "    \n",
    "    for year in range(17,19) :\n",
    "        for i in range(1,13) :\n",
    "            temp = pd.read_excel(path+f'20{year}/{i}월.xlsx')\n",
    "            temp = temp[temp['측정소명']==loc[0]]\n",
    "            df_1718y = pd.concat([df_1718y,temp]) # 1~12월  합쳐주기\n",
    "            \n",
    "    df_1718y.columns = col # 컬럼명 통일하기\n",
    "\n",
    "    # 2019년 자료\n",
    "    df_19y = pd.DataFrame() # 1~12월 합치기위한 빈 df\n",
    "    \n",
    "    for i in range(1,12) :\n",
    "        temp = pd.read_excel(path+f'2019/{i}월.xlsx')\n",
    "        temp = temp[temp['측정소명']==loc[0]]\n",
    "        df_19y = pd.concat([df_19y,temp]) # 1~12월  합쳐주기\n",
    "        \n",
    "    df_19y.columns = col # 컬럼명 통일하기\n",
    "   \n",
    "\n",
    "    # 2020\n",
    "    df_20y = pd.DataFrame() # 1~12월 합치기위한 빈 df\n",
    "    \n",
    "    df_20y_1m2m = pd.read_excel(path+f'2020/2020.01_02_해양/20.01~02_{loc[0]}.xls')\n",
    "    for i in range (3,5) :\n",
    "        temp = pd.read_excel(path+f'2020/2020.0{i}_해양/20.0{i}_{loc[0]}.xls')\n",
    "        df_20y = pd.concat([df_20y,temp])\n",
    "        \n",
    "    for i in range(5,10):\n",
    "        temp = pd.read_excel(path+f'2020/2020.0{i}_해양/2020.0{i}_{loc[0]}.xls')\n",
    "        df_20y = pd.concat([df_20y,temp])\n",
    "        \n",
    "    for i in range(0,3) :\n",
    "        temp = pd.read_excel(path+f'2020/2020.1{i}_해양/2020.1{i}_{loc[0]}.xls')\n",
    "        df_20y = pd.concat([df_20y,temp])\n",
    "    \n",
    "        \n",
    "    \n",
    "    df_20y = pd.concat([df_20y_1m2m, df_20y])    \n",
    "    \n",
    "    # 2021\n",
    "    df_21y = pd.read_excel(path+'2021.xlsx', sheet_name=loc[0])\n",
    "    \n",
    "    # 종합 \n",
    "    df = pd.concat([df_1718y,df_19y,df_20y,df_21y])\n",
    "    \n",
    "    \n",
    "    return df\n"
   ]
  },
  {
   "cell_type": "markdown",
   "metadata": {},
   "source": [
    "---\n",
    "확인을 위해 연도별로 따로따로"
   ]
  },
  {
   "cell_type": "code",
   "execution_count": 53,
   "metadata": {},
   "outputs": [],
   "source": [
    "path = '../../data/TMSINFO_SENSOR_' # 디렉토리\n",
    "loc = ['금강하구'] # 인덱스 번호에 따라 확인할 위치 선택\n",
    "col_1719y = ['측정소명', '관측일자','염분', '전기전도도', '수온', '수소이온농도', '용존산소량', '탁도', '클로로필', '일사량', '기온', '풍속', '풍향', '강수량', '화학적산소요구량','총질소', '총인','암모니아성질소', '질산성질소', '인산성인']\n",
    "col_20y = ['관측일자', '염분', '전기전도도', '수온', '수소이온농도','용존산소량', '탁도', '클로로필', '남조류', '일사량','기온', '풍속', '풍향', '강수량', '화학적산소요구량','총질소', '총인', '암모니아질소', '질산질소', '인산성인']\n",
    "col_21y = ['정점코드', '관측일자',  '염분','전기전도도', '수온', '수소이온농도', '용존산소량', '탁도', '클로로필', '일사량', '기온', '풍속', '풍향', '강수량', '화학적산소요구량', '총질소', '총인', '암모니아성질소', '질산성질소', '인산성인', '남조류', '상대습도', '규산규소']\n",
    "\n",
    "# 엑셀파일 내 특이 컬럼 제거 함수\n",
    "def drop_col(df):\n",
    "    for col1 in df.columns:\n",
    "        if 'Unnamed' in col1:\n",
    "            df.drop(col1, axis=1, inplace=True)   \n",
    "    return df\n",
    "\n",
    "# 17~18년 불러오기\n",
    "def temf17():\n",
    "    df_1718y = pd.DataFrame() # 1~12월 합치기위한 빈 df\n",
    "    \n",
    "    for year in range(17,19) :\n",
    "        for i in range(1,13) :\n",
    "            temp = pd.read_excel(path+f'20{year}/{i}월.xlsx')\n",
    "            temp = temp[temp['측정소명']==loc[0]]\n",
    "            df_1718y = pd.concat([df_1718y,temp]) # 1~12월  합쳐주기\n",
    "            \n",
    "    df_1718y.columns = col_1719y # 컬럼명 통일하기\n",
    "    return drop_col(df_1718y) # 엑셀내 특이컬럼 지우고 리턴     \n",
    "            \n",
    "# 19년 불러오기            \n",
    "def temf19():            \n",
    "\n",
    "    df_19y = pd.DataFrame() \n",
    "        \n",
    "    for i in range(1,12) :\n",
    "        temp = pd.read_excel(path+f'2019/{i}월.xlsx')\n",
    "        temp = temp[temp['측정소명']==loc[0]]\n",
    "        df_19y = pd.concat([df_19y,temp]) \n",
    "            \n",
    "    df_19y.columns = col_1719y \n",
    "    return drop_col(df_19y)\n",
    "   \n",
    "# 20년 불러오기   \n",
    "def temf20():            \n",
    "    df_20y = pd.DataFrame() \n",
    "    \n",
    "    df_20y_1m2m = pd.read_excel(path+f'2020/2020.01_02_해양/20.01~02_{loc[0]}.xls')\n",
    "    for i in range (3,5) :\n",
    "        temp = pd.read_excel(path+f'2020/2020.0{i}_해양/20.0{i}_{loc[0]}.xls')\n",
    "        df_20y = pd.concat([df_20y,temp])\n",
    "        \n",
    "    for i in range(5,10) :\n",
    "        temp = pd.read_excel(path+f'2020/2020.0{i}_해양/2020.0{i}_{loc[0]}.xls')\n",
    "        df_20y = pd.concat([df_20y,temp])\n",
    "\n",
    "        \n",
    "    for i in range(0,3) :\n",
    "        temp = pd.read_excel(path+f'2020/2020.1{i}_해양/2020.1{i}_{loc[0]}.xls')\n",
    "        df_20y = pd.concat([df_20y,temp])\n",
    "    \n",
    "    df_20y = pd.concat([df_20y_1m2m, df_20y])   \n",
    "    \n",
    "    \n",
    "    #컬럼명 통일\n",
    "    drop_col(df_20y)\n",
    "    df_20y.columns = col_20y \n",
    "    \n",
    "    #컬럼순서 통일\n",
    "    df_20y.columns = ['관측일자', '염분', '전기전도도', '수온', '수소이온농도','용존산소량', '탁도', '클로로필', '일사량','기온', '풍속', '풍향', '강수량', '화학적산소요구량','총질소', '총인', '암모니아질소', '질산질소', '인산성인', '남조류']\n",
    "    \n",
    "    return df_20y\n",
    "\n",
    "# 21년 불러오기    \n",
    "def temf21():                \n",
    "    df_21y = pd.read_excel(path+'2021.xlsx', sheet_name=loc[0])\n",
    "    df_21y['강수향'] = '강수량'\n",
    "    df_21y['클로로필A'] = '클로로필'\n",
    "    # 컬럼순서 통일\n",
    "    df_21y.columns = ['정점코드', '관측일자',  '염분','전기전도도', '수온', '수소이온농도', '용존산소량', '탁도', '클로로필', '일사량', '기온', '풍속', '풍향', '강수량', '화학적산소요구량', '총질소', '총인', '암모니아성질소', '질산성질소', '인산성인', '남조류', '상대습도', '규산규소'] \n",
    "    \n",
    "    return drop_col(df_21y)"
   ]
  },
  {
   "cell_type": "markdown",
   "metadata": {},
   "source": [
    "---"
   ]
  },
  {
   "cell_type": "code",
   "execution_count": 10,
   "metadata": {},
   "outputs": [],
   "source": [
    "df_1718 = temf17()"
   ]
  },
  {
   "cell_type": "code",
   "execution_count": 11,
   "metadata": {},
   "outputs": [],
   "source": [
    "df_19 = temf19()"
   ]
  },
  {
   "cell_type": "code",
   "execution_count": 54,
   "metadata": {},
   "outputs": [],
   "source": [
    "df_20 = temf20()"
   ]
  },
  {
   "cell_type": "code",
   "execution_count": 55,
   "metadata": {},
   "outputs": [],
   "source": [
    "df_21 = temf21()"
   ]
  },
  {
   "cell_type": "code",
   "execution_count": 56,
   "metadata": {},
   "outputs": [],
   "source": [
    "df_1718.to_csv(f'{loc}_2017~2018.csv', encoding = 'euc-kr')\n",
    "df_19.to_csv(f'{loc}_2019.csv', encoding = 'euc-kr')\n",
    "df_20.to_csv(f'{loc}_2020.csv', encoding = 'euc-kr')\n",
    "df_21.to_csv(f'{loc}_2021.csv', encoding = 'euc-kr')"
   ]
  },
  {
   "cell_type": "code",
   "execution_count": 57,
   "metadata": {},
   "outputs": [
    {
     "name": "stdout",
     "output_type": "stream",
     "text": [
      "Index(['측정소명', '관측일자', '염분', '전기전도도', '수온', '수소이온농도', '용존산소량', '탁도', '클로로필',\n",
      "       '일사량', '기온', '풍속', '풍향', '강수량', '화학적산소요구량', '총질소', '총인', '암모니아성질소',\n",
      "       '질산성질소', '인산성인'],\n",
      "      dtype='object')\n",
      "Index(['측정소명', '관측일자', '염분', '전기전도도', '수온', '수소이온농도', '용존산소량', '탁도', '클로로필',\n",
      "       '일사량', '기온', '풍속', '풍향', '강수량', '화학적산소요구량', '총질소', '총인', '암모니아성질소',\n",
      "       '질산성질소', '인산성인'],\n",
      "      dtype='object')\n",
      "Index(['관측일자', '염분', '전기전도도', '수온', '수소이온농도', '용존산소량', '탁도', '클로로필', '일사량',\n",
      "       '기온', '풍속', '풍향', '강수량', '화학적산소요구량', '총질소', '총인', '암모니아질소', '질산질소',\n",
      "       '인산성인', '남조류'],\n",
      "      dtype='object')\n",
      "Index(['정점코드', '관측일자', '염분', '전기전도도', '수온', '수소이온농도', '용존산소량', '탁도', '클로로필',\n",
      "       '일사량', '기온', '풍속', '풍향', '강수량', '화학적산소요구량', '총질소', '총인', '암모니아성질소',\n",
      "       '질산성질소', '인산성인', '남조류', '상대습도', '규산규소'],\n",
      "      dtype='object')\n"
     ]
    }
   ],
   "source": [
    "print(df_1718.columns)\n",
    "print(df_19.columns)\n",
    "print(df_20.columns)\n",
    "print(df_21.columns)"
   ]
  },
  {
   "cell_type": "code",
   "execution_count": null,
   "metadata": {},
   "outputs": [],
   "source": [
    "df = make_df()\n",
    "df.to_csv(f'{loc}_2017~2021.csv', encoding = 'euc-kr')"
   ]
  },
  {
   "cell_type": "code",
   "execution_count": null,
   "metadata": {},
   "outputs": [],
   "source": [
    "df.info()"
   ]
  }
 ],
 "metadata": {
  "kernelspec": {
   "display_name": "Python 3.9.12 ('base')",
   "language": "python",
   "name": "python3"
  },
  "language_info": {
   "codemirror_mode": {
    "name": "ipython",
    "version": 3
   },
   "file_extension": ".py",
   "mimetype": "text/x-python",
   "name": "python",
   "nbconvert_exporter": "python",
   "pygments_lexer": "ipython3",
   "version": "3.9.12"
  },
  "orig_nbformat": 4,
  "vscode": {
   "interpreter": {
    "hash": "3d897ffbc13b5710e71e9fb36eb41d8dd58a75d8f4bd294893ab0962f9ec9b14"
   }
  }
 },
 "nbformat": 4,
 "nbformat_minor": 2
}
