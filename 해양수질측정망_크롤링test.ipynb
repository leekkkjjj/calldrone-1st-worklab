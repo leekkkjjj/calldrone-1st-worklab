{
 "cells": [
  {
   "cell_type": "code",
   "execution_count": 70,
   "metadata": {},
   "outputs": [],
   "source": [
    "import webbrowser\n",
    "import selenium\n",
    "from selenium import webdriver as wb\n",
    "from selenium.webdriver.common.keys import Keys\n",
    "from selenium.webdriver.common.by import By\n",
    "from selenium.webdriver.support.ui import WebDriverWait as wait\n",
    "from selenium.webdriver.support import expected_conditions as EC\n",
    "import time\n",
    "import chromedriver_autoinstaller\n",
    "import os\n",
    "import numpy as np\n",
    "import pandas as pd\n",
    "import re"
   ]
  },
  {
   "cell_type": "markdown",
   "metadata": {},
   "source": [
    "---  \n",
    "크롬드라이버 자동설치, headless"
   ]
  },
  {
   "cell_type": "code",
   "execution_count": 2,
   "metadata": {},
   "outputs": [
    {
     "name": "stdout",
     "output_type": "stream",
     "text": [
      "chrom driver is insatlled: ./105/chromedriver.exe\n"
     ]
    }
   ],
   "source": [
    "chrome_ver = chromedriver_autoinstaller.get_chrome_version().split('.')[0]\n",
    "driver_path = f'./{chrome_ver}/chromedriver.exe'\n",
    "if os.path.exists(driver_path):\n",
    "    print(f\"chrom driver is insatlled: {driver_path}\")\n",
    "else:\n",
    "    print(f\"install the chrome driver(ver: {chrome_ver})\")\n",
    "    chromedriver_autoinstaller.install(True)\n",
    "\n",
    "options = wb.ChromeOptions()\n",
    "options.add_argument('headless')"
   ]
  },
  {
   "cell_type": "markdown",
   "metadata": {},
   "source": [
    "---  \n",
    "크롤링 클릭 함수"
   ]
  },
  {
   "cell_type": "code",
   "execution_count": 3,
   "metadata": {},
   "outputs": [],
   "source": [
    "# XPATH 클릭 함수\n",
    "def click(x) :\n",
    "    driver.find_element(By.XPATH,  value=x).click()\n",
    "    time.sleep(1)\n",
    "\n",
    "# 달력 클릭 함수\n",
    "def callendar() :\n",
    "    click(start_calander) # 관측시작 달력 클릭\n",
    "    click(year_box) # 년 텍스트박스 클릭 \n",
    "    click(select_year) # 관측시작할 년 클릭\n",
    "    click(month_box) # 월 텍스트박스 클릭\n",
    "    click(select_mon) # 관측시작할 월 클릭\n",
    "    click(start_date) # 관측시작할 일 클릭\n",
    "    \n",
    "    click(end_calander) # 관측종료 달력 클릭\n",
    "    click(year_box) # 년 텍스트박스 클릭\n",
    "    click(select_year2) # 관측시작할 년 클릭\n",
    "    click(month_box) # 월 텍스트박스 클릭\n",
    "    click(select_mon) # 관측시작할 월 클릭\n",
    "    click(end_date) # 관측종료할 일 클릭\n",
    "    click(search)"
   ]
  },
  {
   "cell_type": "markdown",
   "metadata": {},
   "source": [
    "---  \n",
    "크롤링"
   ]
  },
  {
   "cell_type": "code",
   "execution_count": 129,
   "metadata": {},
   "outputs": [
    {
     "name": "stdout",
     "output_type": "stream",
     "text": [
      "총 8,580건 입니다.(1 / 858 페이지)\n",
      "['8', '580', '1', '858']\n",
      "858\n"
     ]
    }
   ],
   "source": [
    "year = int(input(\"확인할 년도 입력\"))\n",
    "mon = int(input(\"확인할 월 입력\"))\n",
    "\n",
    "# XPATH 클릭 함수\n",
    "def click(x) :\n",
    "    driver.find_element(By.XPATH,  value=x).click()\n",
    "    time.sleep(1)\n",
    "    \n",
    "# 달력 클릭 함수\n",
    "def callendar() :\n",
    "    click(start_calander) # 관측시작 달력 클릭\n",
    "    click(year_box) # 년 텍스트박스 클릭\n",
    "    \n",
    "    # click(select_year) # 관측시작할 년 클릭\n",
    "    click(select_year)\n",
    "    \n",
    "    click(month_box) # 월 텍스트박스 클릭\n",
    "    click(select_mon) # 관측시작할 월 클릭\n",
    "    click(start_date) # 관측시작할 일 클릭\n",
    "    \n",
    "    click(end_calander) # 관측종료 달력 클릭\n",
    "    click(year_box) # 년 텍스트박스 클릭\n",
    "    \n",
    "    # click(select_year) # 관측시작할 년 클릭\n",
    "    click(select_year2)\n",
    "    \n",
    "    click(month_box) # 월 텍스트박스 클릭\n",
    "    click(select_mon) # 관측시작할 월 클릭\n",
    "    click(end_date) # 관측종료할 일 클릭\n",
    "    click(search)\n",
    "\n",
    "url = 'https://www.meis.go.kr/mei/observe/wemosensor.do#'\n",
    "driver = wb.Chrome(options=options)\n",
    "driver.get(url)\n",
    "\n",
    "driver.implicitly_wait(5)\n",
    "\n",
    "# 센서측정자료 클릭하기\n",
    "x1 = \"//button[text()='해양수질자동측정망(센서자료)']\"\n",
    "click(x1)\n",
    "\n",
    "x2 = '//*[@id=\"stnpnt_code\"]'\n",
    "click(x2)\n",
    "\n",
    "# 위치 지정\n",
    "loc_list = ['시화조력','새만금']\n",
    "loc = f\"//option[text()='{loc_list[0]}']\"\n",
    "click(loc)\n",
    "\n",
    "\n",
    "# 관측기간 설정하기\n",
    "date = [0,1,2,3,4,5,6,7,8,9,10,11,12,13,14,15,16,17,18,19,20,21,22,23,24,25,26,27,28,29,30,31]\n",
    "start_calander = '//*[@id=\"searchForm\"]/div/div[2]/span[1]/button'\n",
    "year_box = '//*[@id=\"ui-datepicker-div\"]/div/div/select[1]'\n",
    "month_box = '//*[@id=\"ui-datepicker-div\"]/div/div/select[2]'\n",
    "end_calander = '//*[@id=\"searchForm\"]/div/div[2]/span[3]/button'\n",
    "search = '//*[@id=\"searchForm\"]/div/div[3]/button[2]'\n",
    "\n",
    "select_year = f'//*[@id=\"ui-datepicker-div\"]/div/div/select[1]/option[{year-2001}]'\n",
    "select_year2 = f'//*[@id=\"ui-datepicker-div\"]/div/div/select[1]/option[1]'\n",
    "\n",
    "select_mon = f\"//option[text()='{mon}월']\"\n",
    "\n",
    "start_date = f\"//a[text()='{date[1]}']\"\n",
    "if mon == 2 :\n",
    "    end_date = f\"//a[text()='{date[28]}']\"\n",
    "    callendar()\n",
    "elif mon == 4 or 6 or 9 or 11 :\n",
    "    end_date = f\"//a[text()='{date[30]}']\"\n",
    "    callendar()\n",
    "else :\n",
    "    end_date = f\"//a[text()='{date[31]}']\"\n",
    "    callendar()\n",
    "    \n",
    "# 각 페이지의 결과를 담을 리스트\n",
    "list = [] \n",
    "# 1페이지의 결과\n",
    "table = driver.find_element(By.XPATH,'//*[@id=\"mySheet-table\"]')\n",
    "# 페이지를 넘기기위한 번호\n",
    "path ='//*[@id=\"listDiv\"]/div[4]/button'\n",
    "# 총 페이지 수\n",
    "temp = driver.find_element(By.XPATH,'//*[@id=\"pageCount\"]/div/p')\n",
    "print(temp.text)\n",
    "result = re.compile('[0-9]+').findall(temp.text) \n",
    "print(result)\n",
    "cnt = int(result[3])\n",
    "print(cnt)\n",
    "\n",
    "# 크롤링해오기\n",
    "try :\n",
    "    for replay in range ((cnt//10)+1) :\n",
    "        if (replay == 0) :\n",
    "            for j in range(3,13) : # 1-10 페이지\n",
    "                if (j<12) :\n",
    "                    list.extend(table.text[45:].split('\\n'))\n",
    "                    list.pop() # 결측치 제거\n",
    "                    click(path+'['+str(j)+']')\n",
    "                else :\n",
    "                    click(path+'['+str(12)+']/i') # 다음페이지\n",
    "        else :        \n",
    "            for k in range(4,14) : # 11~ 끝페이지\n",
    "                if (k<13) :\n",
    "                    list.extend(table.text[45:].split('\\n'))\n",
    "                    list.pop() # 결측치 제거\n",
    "                    click(path+'['+str(k)+']')\n",
    "                else :\n",
    "                    click(path+'['+str(13)+']/i') # 다음페이지\n",
    "except :\n",
    "    pass\n",
    "\n",
    "driver.close()"
   ]
  },
  {
   "cell_type": "markdown",
   "metadata": {},
   "source": [
    "---  \n",
    "데이터 전처리"
   ]
  },
  {
   "cell_type": "code",
   "execution_count": 112,
   "metadata": {},
   "outputs": [],
   "source": [
    "table_list = []\n",
    "for i in list :\n",
    "    table_list.append(i.split(' '))\n",
    "# table_list.pop()"
   ]
  },
  {
   "cell_type": "code",
   "execution_count": 114,
   "metadata": {},
   "outputs": [],
   "source": [
    "a=[] \n",
    "b=[]\n",
    "c=[]\n",
    "d=[]\n",
    "e=[]\n",
    "f=[]\n",
    "g=[]\n",
    "h=[]"
   ]
  },
  {
   "cell_type": "code",
   "execution_count": 115,
   "metadata": {},
   "outputs": [],
   "source": [
    "for i in range(len(table_list)) :\n",
    "    a.append(table_list[i][0])\n",
    "    b.append(table_list[i][1])\n",
    "    c.append(table_list[i][2])\n",
    "    d.append(table_list[i][3])\n",
    "    e.append(table_list[i][4])\n",
    "    f.append(table_list[i][5])\n",
    "    g.append(table_list[i][6])\n",
    "    h.append(table_list[i][7])"
   ]
  },
  {
   "cell_type": "code",
   "execution_count": 116,
   "metadata": {},
   "outputs": [
    {
     "data": {
      "text/plain": [
       "dict_keys(['정점명', '관측일시', '전기전도도', '수온', '용존산소', '탁도', '염분'])"
      ]
     },
     "execution_count": 116,
     "metadata": {},
     "output_type": "execute_result"
    }
   ],
   "source": [
    "dict = { '정점명':a,'관측일시' : b, '전기전도도' : c, '수온' : d, '용존산소' : e, '탁도' : f, '염분' : g }\n",
    "dict.keys()"
   ]
  },
  {
   "cell_type": "code",
   "execution_count": 117,
   "metadata": {},
   "outputs": [
    {
     "data": {
      "text/html": [
       "<div>\n",
       "<style scoped>\n",
       "    .dataframe tbody tr th:only-of-type {\n",
       "        vertical-align: middle;\n",
       "    }\n",
       "\n",
       "    .dataframe tbody tr th {\n",
       "        vertical-align: top;\n",
       "    }\n",
       "\n",
       "    .dataframe thead th {\n",
       "        text-align: right;\n",
       "    }\n",
       "</style>\n",
       "<table border=\"1\" class=\"dataframe\">\n",
       "  <thead>\n",
       "    <tr style=\"text-align: right;\">\n",
       "      <th></th>\n",
       "      <th>정점명</th>\n",
       "      <th>관측일시</th>\n",
       "      <th>전기전도도</th>\n",
       "      <th>수온</th>\n",
       "      <th>용존산소</th>\n",
       "      <th>탁도</th>\n",
       "      <th>염분</th>\n",
       "    </tr>\n",
       "  </thead>\n",
       "  <tbody>\n",
       "    <tr>\n",
       "      <th>0</th>\n",
       "      <td>시화조력</td>\n",
       "      <td>2020-07-30</td>\n",
       "      <td>23:55</td>\n",
       "      <td>42.86</td>\n",
       "      <td>24.71</td>\n",
       "      <td>7.86</td>\n",
       "      <td>6.02</td>\n",
       "    </tr>\n",
       "    <tr>\n",
       "      <th>1</th>\n",
       "      <td>시화조력</td>\n",
       "      <td>2020-07-30</td>\n",
       "      <td>23:50</td>\n",
       "      <td>42.87</td>\n",
       "      <td>24.71</td>\n",
       "      <td>7.84</td>\n",
       "      <td>5.59</td>\n",
       "    </tr>\n",
       "    <tr>\n",
       "      <th>2</th>\n",
       "      <td>시화조력</td>\n",
       "      <td>2020-07-30</td>\n",
       "      <td>23:45</td>\n",
       "      <td>42.87</td>\n",
       "      <td>24.72</td>\n",
       "      <td>7.86</td>\n",
       "      <td>6.05</td>\n",
       "    </tr>\n",
       "    <tr>\n",
       "      <th>3</th>\n",
       "      <td>시화조력</td>\n",
       "      <td>2020-07-30</td>\n",
       "      <td>23:40</td>\n",
       "      <td>42.87</td>\n",
       "      <td>24.72</td>\n",
       "      <td>7.86</td>\n",
       "      <td>6.08</td>\n",
       "    </tr>\n",
       "    <tr>\n",
       "      <th>4</th>\n",
       "      <td>시화조력</td>\n",
       "      <td>2020-07-30</td>\n",
       "      <td>23:35</td>\n",
       "      <td>42.88</td>\n",
       "      <td>24.73</td>\n",
       "      <td>7.87</td>\n",
       "      <td>6.16</td>\n",
       "    </tr>\n",
       "    <tr>\n",
       "      <th>...</th>\n",
       "      <td>...</td>\n",
       "      <td>...</td>\n",
       "      <td>...</td>\n",
       "      <td>...</td>\n",
       "      <td>...</td>\n",
       "      <td>...</td>\n",
       "      <td>...</td>\n",
       "    </tr>\n",
       "    <tr>\n",
       "      <th>175</th>\n",
       "      <td>시화조력</td>\n",
       "      <td>2020-07-30</td>\n",
       "      <td>08:30</td>\n",
       "      <td>42.84</td>\n",
       "      <td>24.73</td>\n",
       "      <td>7.86</td>\n",
       "      <td>6.00</td>\n",
       "    </tr>\n",
       "    <tr>\n",
       "      <th>176</th>\n",
       "      <td>시화조력</td>\n",
       "      <td>2020-07-30</td>\n",
       "      <td>08:25</td>\n",
       "      <td>42.84</td>\n",
       "      <td>24.73</td>\n",
       "      <td>7.86</td>\n",
       "      <td>6.02</td>\n",
       "    </tr>\n",
       "    <tr>\n",
       "      <th>177</th>\n",
       "      <td>시화조력</td>\n",
       "      <td>2020-07-30</td>\n",
       "      <td>08:20</td>\n",
       "      <td>42.84</td>\n",
       "      <td>24.73</td>\n",
       "      <td>7.86</td>\n",
       "      <td>6.00</td>\n",
       "    </tr>\n",
       "    <tr>\n",
       "      <th>178</th>\n",
       "      <td>시화조력</td>\n",
       "      <td>2020-07-30</td>\n",
       "      <td>08:15</td>\n",
       "      <td>42.84</td>\n",
       "      <td>24.73</td>\n",
       "      <td>7.86</td>\n",
       "      <td>5.95</td>\n",
       "    </tr>\n",
       "    <tr>\n",
       "      <th>179</th>\n",
       "      <td>시화조력</td>\n",
       "      <td>2020-07-30</td>\n",
       "      <td>08:10</td>\n",
       "      <td>42.84</td>\n",
       "      <td>24.73</td>\n",
       "      <td>7.86</td>\n",
       "      <td>6.00</td>\n",
       "    </tr>\n",
       "  </tbody>\n",
       "</table>\n",
       "<p>180 rows × 7 columns</p>\n",
       "</div>"
      ],
      "text/plain": [
       "      정점명        관측일시  전기전도도     수온   용존산소    탁도    염분\n",
       "0    시화조력  2020-07-30  23:55  42.86  24.71  7.86  6.02\n",
       "1    시화조력  2020-07-30  23:50  42.87  24.71  7.84  5.59\n",
       "2    시화조력  2020-07-30  23:45  42.87  24.72  7.86  6.05\n",
       "3    시화조력  2020-07-30  23:40  42.87  24.72  7.86  6.08\n",
       "4    시화조력  2020-07-30  23:35  42.88  24.73  7.87  6.16\n",
       "..    ...         ...    ...    ...    ...   ...   ...\n",
       "175  시화조력  2020-07-30  08:30  42.84  24.73  7.86  6.00\n",
       "176  시화조력  2020-07-30  08:25  42.84  24.73  7.86  6.02\n",
       "177  시화조력  2020-07-30  08:20  42.84  24.73  7.86  6.00\n",
       "178  시화조력  2020-07-30  08:15  42.84  24.73  7.86  5.95\n",
       "179  시화조력  2020-07-30  08:10  42.84  24.73  7.86  6.00\n",
       "\n",
       "[180 rows x 7 columns]"
      ]
     },
     "execution_count": 117,
     "metadata": {},
     "output_type": "execute_result"
    }
   ],
   "source": [
    "df = pd.DataFrame(dict)\n",
    "df"
   ]
  },
  {
   "cell_type": "code",
   "execution_count": 118,
   "metadata": {},
   "outputs": [
    {
     "name": "stdout",
     "output_type": "stream",
     "text": [
      "<class 'pandas.core.frame.DataFrame'>\n",
      "RangeIndex: 180 entries, 0 to 179\n",
      "Data columns (total 7 columns):\n",
      " #   Column  Non-Null Count  Dtype \n",
      "---  ------  --------------  ----- \n",
      " 0   정점명     180 non-null    object\n",
      " 1   관측일시    180 non-null    object\n",
      " 2   전기전도도   180 non-null    object\n",
      " 3   수온      180 non-null    object\n",
      " 4   용존산소    180 non-null    object\n",
      " 5   탁도      180 non-null    object\n",
      " 6   염분      180 non-null    object\n",
      "dtypes: object(7)\n",
      "memory usage: 10.0+ KB\n"
     ]
    }
   ],
   "source": [
    "df.info()"
   ]
  }
 ],
 "metadata": {
  "kernelspec": {
   "display_name": "Python 3.10.5 64-bit",
   "language": "python",
   "name": "python3"
  },
  "language_info": {
   "codemirror_mode": {
    "name": "ipython",
    "version": 3
   },
   "file_extension": ".py",
   "mimetype": "text/x-python",
   "name": "python",
   "nbconvert_exporter": "python",
   "pygments_lexer": "ipython3",
   "version": "3.10.5"
  },
  "orig_nbformat": 4,
  "vscode": {
   "interpreter": {
    "hash": "9907b05ad5677b1cfcca22bd1a12faf7a7b5a0b41431806ea6144102cc530b51"
   }
  }
 },
 "nbformat": 4,
 "nbformat_minor": 2
}
