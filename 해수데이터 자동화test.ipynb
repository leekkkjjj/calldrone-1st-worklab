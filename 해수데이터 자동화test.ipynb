{
 "cells": [
  {
   "cell_type": "code",
   "execution_count": null,
   "metadata": {},
   "outputs": [],
   "source": [
    "import json\n",
    "import requests"
   ]
  },
  {
   "cell_type": "code",
   "execution_count": null,
   "metadata": {},
   "outputs": [],
   "source": [
    "# 용존산소, 인산염인을 지닌 api\n",
    "key1 = 'xxx' \n",
    "\n",
    "# 아질산염질소, 용존무기질소를 지닌 api\n",
    "key2 = 'xxx' #비공개\n",
    "\n",
    "# api 날짜 범위\n",
    "start_date_2019 = '20190101'\n",
    "end_date_2019 = '20191231'\n",
    "start_date_2020 = '20200101'\n",
    "end_date_2020 = '20201231'\n",
    "start_date_2021 = '20210101'\n",
    "end_date_2021 = '20211231'\n",
    "\n",
    "# api url\n",
    "url_2019a = f\"https://www.nifs.go.kr/OpenAPI_json?id=sooList&key={key1}&sdate={start_date_2019}&edate={end_date_2019}\"\n",
    "url_2020a = f\"https://www.nifs.go.kr/OpenAPI_json?id=sooList&key={key1}&sdate={start_date_2020}&edate={end_date_2020}\"\n",
    "url_2021a = f\"https://www.nifs.go.kr/OpenAPI_json?id=sooList&key={key1}&sdate={start_date_2021}&edate={end_date_2021}\"\n",
    "\n",
    "url_2019b = f\"https://www.nifs.go.kr/OpenAPI_json?id=femoSeaList&key={key2}&sdate={start_date_2019}&edate={end_date_2019}\"\n",
    "url_2020b = f\"https://www.nifs.go.kr/OpenAPI_json?id=femoSeaList&key={key2}&sdate={start_date_2020}&edate={end_date_2020}\"\n",
    "url_2021b = f\"https://www.nifs.go.kr/OpenAPI_json?id=femoSeaList&key={key2}&sdate={start_date_2021}&edate={end_date_2021}\""
   ]
  },
  {
   "cell_type": "code",
   "execution_count": null,
   "metadata": {},
   "outputs": [],
   "source": [
    "import pandas as pd\n",
    "pd.set_option('display.max_columns', None)\n",
    "pd.set_option('display.max_colwidth', None)"
   ]
  },
  {
   "cell_type": "markdown",
   "metadata": {},
   "source": [
    "데이터 받아오기"
   ]
  },
  {
   "cell_type": "code",
   "execution_count": null,
   "metadata": {},
   "outputs": [],
   "source": [
    "temp =requests.get(url_2019a)\n",
    "temp.encoding='euc-kr'\n",
    "temp_2019a = temp.json()\n",
    "\n",
    "temp =requests.get(url_2020a)\n",
    "temp.encoding='euc-kr'\n",
    "temp_2020a = temp.json()\n",
    "\n",
    "temp =requests.get(url_2021a)\n",
    "temp.encoding='euc-kr'\n",
    "temp_2021a = temp.json()"
   ]
  },
  {
   "cell_type": "markdown",
   "metadata": {},
   "source": [
    "### 1번 api 정보"
   ]
  },
  {
   "cell_type": "markdown",
   "metadata": {},
   "source": [
    "데이터 확인"
   ]
  },
  {
   "cell_type": "code",
   "execution_count": null,
   "metadata": {},
   "outputs": [],
   "source": [
    "temp_2021a"
   ]
  },
  {
   "cell_type": "code",
   "execution_count": null,
   "metadata": {},
   "outputs": [],
   "source": [
    "temp_2021a['body'].keys()"
   ]
  },
  {
   "cell_type": "code",
   "execution_count": null,
   "metadata": {},
   "outputs": [],
   "source": [
    "temp_2021a['body']['item']"
   ]
  },
  {
   "cell_type": "markdown",
   "metadata": {},
   "source": [
    "원본 데이터 : df_20XXa, df_20XX_b  \n",
    "복사 데이터 : copy_df_20XXa, copy_df_20XXb"
   ]
  },
  {
   "cell_type": "code",
   "execution_count": null,
   "metadata": {},
   "outputs": [],
   "source": [
    "df_2019a = pd.DataFrame(temp_2019a['body']['item'])\n",
    "df_2020a = pd.DataFrame(temp_2020a['body']['item'])\n",
    "df_2021a = pd.DataFrame(temp_2021a['body']['item'])"
   ]
  },
  {
   "cell_type": "code",
   "execution_count": null,
   "metadata": {},
   "outputs": [],
   "source": [
    "copy_df_2021a = pd.DataFrame(df_2021a)\n",
    "copy_df_2021a.head(3)"
   ]
  },
  {
   "cell_type": "markdown",
   "metadata": {},
   "source": [
    "사용하지 않을 column 삭제"
   ]
  },
  {
   "cell_type": "code",
   "execution_count": null,
   "metadata": {},
   "outputs": [],
   "source": [
    "copy_df_2021a.drop(labels=['nut_no3_n','sln_cde', 'sta_cde','wtr_tmp', 'wtr_dep', 'qc_wtr', \n",
    "                      'sal', 'qc_sal','qc_dox','nut_no2_n', 'nut_no3_n','nut_sio2_si',\n",
    "                      'nut_ph','wtr_trn','atm','res_vsl_nm'],\n",
    "             axis=1, inplace=True)\n",
    "\n",
    "copy_df_2021a.head()"
   ]
  },
  {
   "cell_type": "markdown",
   "metadata": {},
   "source": [
    "column명 통합 및 순서 정리"
   ]
  },
  {
   "cell_type": "code",
   "execution_count": null,
   "metadata": {},
   "outputs": [],
   "source": [
    "copy_df_2021a.columns = ['경도','해역','용존산소','관측일시','인산염인','위도']\n",
    "copy_df_2021a.head()"
   ]
  },
  {
   "cell_type": "code",
   "execution_count": null,
   "metadata": {},
   "outputs": [],
   "source": [
    "copy_df_2021a['위도/경도'] = copy_df_2021a[['위도','경도']].apply(\n",
    "    lambda row : ' / '.join(row),\n",
    "    axis = 1\n",
    ")"
   ]
  },
  {
   "cell_type": "code",
   "execution_count": null,
   "metadata": {},
   "outputs": [],
   "source": [
    "copy_df_2021a.drop(labels=['위도','경도'],\n",
    "              axis=1, inplace=True)"
   ]
  },
  {
   "cell_type": "code",
   "execution_count": null,
   "metadata": {},
   "outputs": [],
   "source": [
    "copy_df_2021a.head()"
   ]
  },
  {
   "cell_type": "code",
   "execution_count": null,
   "metadata": {},
   "outputs": [],
   "source": [
    "copy_df_2021a = copy_df_2021a.sort_values(by=['관측일시'],\n",
    "                                ascending=True)\n",
    "copy_df_2021a.head()"
   ]
  },
  {
   "cell_type": "code",
   "execution_count": null,
   "metadata": {},
   "outputs": [],
   "source": [
    "copy_df_2021a.info()"
   ]
  },
  {
   "cell_type": "code",
   "execution_count": null,
   "metadata": {},
   "outputs": [],
   "source": [
    "copy_df_2021a.set_index('위도/경도', inplace = True)\n",
    "copy_df_2021a.head()"
   ]
  },
  {
   "cell_type": "code",
   "execution_count": null,
   "metadata": {},
   "outputs": [],
   "source": [
    "copy_df_2021a = copy_df_2021a[['해역','관측일시','용존산소','인산염인']]\n",
    "copy_df_2021a.head()"
   ]
  },
  {
   "cell_type": "markdown",
   "metadata": {},
   "source": [
    "### !!!결측치 인코딩 작업 필요!!!\n",
    "---"
   ]
  },
  {
   "cell_type": "markdown",
   "metadata": {},
   "source": [
    "### 2번 api 정보"
   ]
  },
  {
   "cell_type": "markdown",
   "metadata": {},
   "source": [
    "데이터 불러오기"
   ]
  },
  {
   "cell_type": "code",
   "execution_count": null,
   "metadata": {},
   "outputs": [],
   "source": [
    "temp =requests.get(url_2021b)\n",
    "temp.encoding='euc-kr'\n",
    "temp_2021b = temp.json()"
   ]
  },
  {
   "cell_type": "markdown",
   "metadata": {},
   "source": [
    "데이터 확인"
   ]
  },
  {
   "cell_type": "code",
   "execution_count": null,
   "metadata": {},
   "outputs": [],
   "source": [
    "temp_2021b"
   ]
  },
  {
   "cell_type": "code",
   "execution_count": null,
   "metadata": {},
   "outputs": [],
   "source": [
    "temp_2021b['body']['item']"
   ]
  },
  {
   "cell_type": "markdown",
   "metadata": {},
   "source": [
    "원본 / 카피데이터 분리"
   ]
  },
  {
   "cell_type": "code",
   "execution_count": null,
   "metadata": {},
   "outputs": [],
   "source": [
    "df_2021b = pd.DataFrame(temp_2021b['body']['item'])\n",
    "copy_df_2021b = pd.DataFrame(df_2021b)\n",
    "copy_df_2021b.head()"
   ]
  },
  {
   "cell_type": "code",
   "execution_count": null,
   "metadata": {},
   "outputs": [],
   "source": [
    "copy_df_2021b.info()"
   ]
  },
  {
   "cell_type": "markdown",
   "metadata": {},
   "source": [
    "사용하지 않을 column 삭제"
   ]
  },
  {
   "cell_type": "code",
   "execution_count": null,
   "metadata": {},
   "outputs": [],
   "source": [
    "copy_df_2021b.drop(labels=['CHL_B', 'SIL_S', 'SAL_B', 'NH4_N_B', 'M', 'DIP_S', 'DO_B','CHL_S', 'TP_B',\n",
    "                     'WEATHER', 'NH4_N_S','SAL_S', 'DIP_B', 'TN_S', 'DEPTH', 'DO_S', 'PH_B',\n",
    "                     'KIND', 'COD_B',  'SS_S', 'NO3_N_S', 'COD_S', 'PH_S', 'TN_B', 'SIL_B',\n",
    "                     'LOCATION_POINT', 'SS_B','TP_S','NO3_N_B','TEMP_S','TEMP_B'], \n",
    "              inplace=True, axis =1)\n",
    "\n",
    "copy_df_2021b.head()"
   ]
  },
  {
   "cell_type": "markdown",
   "metadata": {},
   "source": [
    "column통합, 정리"
   ]
  },
  {
   "cell_type": "code",
   "execution_count": null,
   "metadata": {},
   "outputs": [],
   "source": [
    "print(copy_df_2021b['TIME_H'].sort_values(ascending = False).unique())\n",
    "print(copy_df_2021b['TIME_I'].sort_values(ascending = False).unique())"
   ]
  },
  {
   "cell_type": "code",
   "execution_count": null,
   "metadata": {},
   "outputs": [],
   "source": [
    "copy_df_2021b['TIME_H'].replace(['0','1','2','3','4','5','6','7','8','9'], \n",
    "                           ['00','01','02','03','04','05','06','07','08','09'],  \n",
    "                           inplace= True)\n",
    "\n",
    "print(copy_df_2021b['TIME_H'].unique())"
   ]
  },
  {
   "cell_type": "code",
   "execution_count": null,
   "metadata": {},
   "outputs": [],
   "source": [
    "copy_df_2021b['TIME_I'].replace(['0','1','2','3','4','5','6','7','8','9'], \n",
    "                           ['00','01','02','03','04','05','06','07','08','09'], \n",
    "                           inplace=True)\n",
    "print(copy_df_2021b['TIME_I'].unique())"
   ]
  },
  {
   "cell_type": "code",
   "execution_count": null,
   "metadata": {},
   "outputs": [],
   "source": [
    "print(copy_df_2021b['DATE_M'].unique())\n",
    "print(copy_df_2021b['DATE_D'].unique())"
   ]
  },
  {
   "cell_type": "code",
   "execution_count": null,
   "metadata": {},
   "outputs": [],
   "source": [
    "copy_df_2021b['DATE_M'].replace(['0','1','2','3','4','5','6','7','8','9'],\n",
    "                           ['00','01','02','03','04','05','06','07','08','09'],\n",
    "                           inplace=True)\n",
    "\n",
    "copy_df_2021b['DATE_D'].replace(['0','1','2','3','4','5','6','7','8','9'],\n",
    "                           ['00','01','02','03','04','05','06','07','08','09'],\n",
    "                           inplace=True)\n",
    "\n",
    "\n",
    "print(copy_df_2021b['DATE_M'].unique())\n",
    "print(copy_df_2021b['DATE_D'].unique())"
   ]
  },
  {
   "cell_type": "code",
   "execution_count": null,
   "metadata": {},
   "outputs": [],
   "source": [
    "copy_df_2021b['년월일'] = copy_df_2021b[['DATE_Y','DATE_M','DATE_D']].apply(\n",
    "    lambda row : ':'.join(row),\n",
    "    axis =1\n",
    ")\n",
    "\n",
    "copy_df_2021b['시간'] = copy_df_2021b[['TIME_H','TIME_I']].apply(\n",
    "    lambda row : ':'.join(row),\n",
    "    axis = 1\n",
    ")\n",
    "\n",
    "copy_df_2021b['관측일시'] = copy_df_2021b[['년월일','시간']].apply(\n",
    "    lambda row : ' '.join(row),\n",
    "    axis = 1\n",
    "    \n",
    ")\n",
    "\n",
    "copy_df_2021b.drop(labels=['DATE_Y','DATE_M','DATE_D','TIME_H','TIME_I', '년월일', '시간'],\n",
    "              axis = 1, inplace = True)"
   ]
  },
  {
   "cell_type": "code",
   "execution_count": null,
   "metadata": {},
   "outputs": [],
   "source": [
    "copy_df_2021b['위도/경도'] = copy_df_2021b[['LATITUDE','LONGITUDE']].apply(\n",
    "    lambda row : ' / '.join(row),\n",
    "    axis = 1\n",
    ")\n",
    "\n",
    "copy_df_2021b.drop(labels=['LATITUDE', 'LONGITUDE'], \n",
    "              axis =1, inplace=True)"
   ]
  },
  {
   "cell_type": "code",
   "execution_count": null,
   "metadata": {},
   "outputs": [],
   "source": [
    "copy_df_2019b = copy_df_2021b.sort_values(by=['관측일시'], ascending=True)\n",
    "copy_df_2021b.head()"
   ]
  },
  {
   "cell_type": "code",
   "execution_count": null,
   "metadata": {},
   "outputs": [],
   "source": [
    "copy_df_2021b.set_index('위도/경도', inplace=True)\n",
    "copy_df_2021b.columns = ['아질산염질소-저층', '아질산염질소-표층', '용존무기질소-저층', '용존무기질소-표층', '어장명', '관측일시']\n",
    "copy_df_2021b = copy_df_2021b[['어장명','관측일시','아질산염질소-저층', '아질산염질소-표층','용존무기질소-저층', '용존무기질소-표층']]\n",
    "copy_df_2021b.head()"
   ]
  },
  {
   "cell_type": "markdown",
   "metadata": {},
   "source": [
    "촤종확인"
   ]
  },
  {
   "cell_type": "code",
   "execution_count": null,
   "metadata": {},
   "outputs": [],
   "source": [
    "copy_df_2021a.info()"
   ]
  },
  {
   "cell_type": "code",
   "execution_count": null,
   "metadata": {},
   "outputs": [],
   "source": [
    "copy_df_2021a.head(3)"
   ]
  },
  {
   "cell_type": "code",
   "execution_count": null,
   "metadata": {},
   "outputs": [],
   "source": [
    "copy_df_2021b.info()"
   ]
  },
  {
   "cell_type": "code",
   "execution_count": null,
   "metadata": {},
   "outputs": [],
   "source": [
    "copy_df_2021b.head(3)"
   ]
  },
  {
   "cell_type": "markdown",
   "metadata": {},
   "source": [
    "자동화코드"
   ]
  },
  {
   "cell_type": "code",
   "execution_count": null,
   "metadata": {},
   "outputs": [],
   "source": [
    "import json\n",
    "import requests\n",
    "import numpy as np\n",
    "import pandas as pd\n",
    "pd.set_option('display.max_columns', None)\n",
    "pd.set_option('display.max_colwidth', None)\n",
    "\n",
    "start = '20210101'\n",
    "end= '20211231'\n",
    "path = r'C:\\Users\\smhrd\\Desktop\\project\\data'"
   ]
  },
  {
   "cell_type": "code",
   "execution_count": null,
   "metadata": {},
   "outputs": [],
   "source": [
    "def make_a(start,end) :\n",
    "    \n",
    "    key = 'qPwOeIrU-2208-01rnrwls-0468' \n",
    "    url = f\"https://www.nifs.go.kr/OpenAPI_json?id=sooList&key={key}&sdate={start}&edate={end}\"\n",
    "    \n",
    "    temp = requests.get(url)\n",
    "    temp.encoding = 'euc-kr'\n",
    "    temp_a = temp.json()\n",
    "    \n",
    "    df_a = pd.DataFrame(temp_a['body']['item'])\n",
    "    \n",
    "    df_a.drop(labels=['nut_no3_n','sln_cde', 'sta_cde','wtr_tmp', 'wtr_dep', 'qc_wtr', \n",
    "                      'sal', 'qc_sal','qc_dox','nut_no2_n', 'nut_no3_n','nut_sio2_si',\n",
    "                      'nut_ph','wtr_trn','atm','res_vsl_nm'],\n",
    "             axis=1, inplace=True)\n",
    "    df_a.columns = ['경도','해역','용존산소','관측일시','인산염인','위도']\n",
    "    \n",
    "    df_a['위도/경도'] = df_a[['위도','경도']].apply(lambda row : ' / '.join(row), axis = 1)\n",
    "    df_a.drop(labels=['위도','경도'], axis=1, inplace=True)\n",
    "    # df_a.set_index('위도/경도', inplace = True)\n",
    "    \n",
    "    df_a = df_a.sort_values(by=['관측일시'], ascending=True)\n",
    "    # df_a = df_a[['해역','관측일시','용존산소','인산염인']]\n",
    "    \n",
    "    # df_a.to_csv(path+f'/{start[:4]}(a).csv', index_label=False)\n",
    "    return df_a"
   ]
  },
  {
   "cell_type": "code",
   "execution_count": null,
   "metadata": {},
   "outputs": [],
   "source": [
    "def make_b(start,end) :\n",
    "    \n",
    "    key = 'qPwOeIrU-2208-01rnrwls-0467' \n",
    "    url = f'https://www.nifs.go.kr/OpenAPI_json?id=femoSeaList&key={key}&sdate={start}&edate={end}'\n",
    "    \n",
    "    temp = requests.get(url)\n",
    "    temp.encoding = 'euc-kr'\n",
    "    temp_b = temp.json()\n",
    "    \n",
    "    df_b = pd.DataFrame(temp_b['body']['item'])\n",
    "    df_b.drop(labels=['CHL_B', 'SIL_S', 'SAL_B', 'NH4_N_B', 'M', 'DIP_S', 'DO_B','CHL_S', 'TP_B',\n",
    "                      'WEATHER', 'NH4_N_S','SAL_S', 'DIP_B', 'TN_S', 'DEPTH', 'DO_S', 'PH_B',\n",
    "                      'KIND', 'COD_B',  'SS_S', 'NO3_N_S', 'COD_S', 'PH_S', 'TN_B', 'SIL_B',\n",
    "                      'LOCATION_POINT', 'SS_B','TP_S','NO3_N_B','TEMP_S','TEMP_B'], \n",
    "               inplace=True, axis =1)\n",
    "    \n",
    "    df_b['TIME_H'].replace(['0','1','2','3','4','5','6','7','8','9'], \n",
    "                            ['00','01','02','03','04','05','06','07','08','09'],  \n",
    "                            inplace= True)\n",
    "    df_b['TIME_I'].replace(['0','1','2','3','4','5','6','7','8','9'], \n",
    "                            ['00','01','02','03','04','05','06','07','08','09'], \n",
    "                            inplace=True)\n",
    "    df_b['DATE_M'].replace(['0','1','2','3','4','5','6','7','8','9'],\n",
    "                            ['00','01','02','03','04','05','06','07','08','09'],\n",
    "                            inplace=True)\n",
    "    df_b['DATE_D'].replace(['0','1','2','3','4','5','6','7','8','9'],\n",
    "                            ['00','01','02','03','04','05','06','07','08','09'],\n",
    "                            inplace=True)\n",
    "    \n",
    "    df_b['년월일'] = df_b[['DATE_Y','DATE_M','DATE_D']].apply(\n",
    "     lambda row : ':'.join(row),axis =1)\n",
    "    df_b['시간'] = df_b[['TIME_H','TIME_I']].apply(\n",
    "     lambda row : ':'.join(row),axis = 1)\n",
    "    df_b['관측일시'] = df_b[['년월일','시간']].apply(\n",
    "     lambda row : ' '.join(row),\n",
    "     axis = 1)\n",
    "    df_b.drop(labels=['DATE_Y','DATE_M','DATE_D','TIME_H','TIME_I', '년월일', '시간'],\n",
    "               axis = 1, inplace = True)\n",
    "    \n",
    "    df_b['위도/경도'] = df_b[['LATITUDE','LONGITUDE']].apply(lambda row : ' / '.join(row),axis = 1)\n",
    "    df_b.drop(labels=['LATITUDE', 'LONGITUDE'], axis =1, inplace=True)\n",
    "    df_b.set_index('위도/경도', inplace=True)\n",
    "    \n",
    "    df_b.columns = ['아질산염질소-저층', '아질산염질소-표층', '용존무기질소-저층', '용존무기질소-표층', '어장명', '관측일시']\n",
    "    df_b = df_b[['어장명','관측일시','아질산염질소-저층', '아질산염질소-표층','용존무기질소-저층', '용존무기질소-표층']]\n",
    "    \n",
    "    df_b.to_csv(path+f'/{start[:4]}(b).csv', index_label=False)\n",
    "    \n",
    "    return df_b\n",
    " "
   ]
  },
  {
   "cell_type": "code",
   "execution_count": null,
   "metadata": {},
   "outputs": [],
   "source": [
    "df_a = make_a(start,end)"
   ]
  },
  {
   "cell_type": "code",
   "execution_count": null,
   "metadata": {},
   "outputs": [],
   "source": [
    "df_a.head()"
   ]
  },
  {
   "cell_type": "markdown",
   "metadata": {},
   "source": [
    "김 데이터 현황 확인"
   ]
  },
  {
   "cell_type": "code",
   "execution_count": null,
   "metadata": {},
   "outputs": [],
   "source": [
    "df_b = make_b(start,end)"
   ]
  },
  {
   "cell_type": "code",
   "execution_count": null,
   "metadata": {},
   "outputs": [],
   "source": [
    "df_b['FISHERY'].unique()"
   ]
  },
  {
   "cell_type": "code",
   "execution_count": null,
   "metadata": {},
   "outputs": [],
   "source": [
    "df_ndg = df_b[df_b['FISHERY']=='낙동강하구']\n",
    "df_busan = df_b[df_b['FISHERY']=='부산']"
   ]
  },
  {
   "cell_type": "code",
   "execution_count": null,
   "metadata": {},
   "outputs": [],
   "source": [
    "df_ndg[df_ndg['KIND']=='김'].value_counts()"
   ]
  },
  {
   "cell_type": "code",
   "execution_count": null,
   "metadata": {},
   "outputs": [],
   "source": [
    "df_busan[df_busan['KIND']=='김'].value_counts()"
   ]
  },
  {
   "cell_type": "code",
   "execution_count": null,
   "metadata": {},
   "outputs": [],
   "source": [
    "np.unique(df_busan['KIND'], return_counts=True)"
   ]
  },
  {
   "cell_type": "code",
   "execution_count": null,
   "metadata": {},
   "outputs": [],
   "source": [
    "df_busan['KIND'].value_counts()"
   ]
  },
  {
   "cell_type": "code",
   "execution_count": null,
   "metadata": {},
   "outputs": [],
   "source": [
    "df_b[df_b['KIND']=='김']['FISHERY'].value_counts()"
   ]
  }
 ],
 "metadata": {
  "kernelspec": {
   "display_name": "Python 3.10.5 64-bit",
   "language": "python",
   "name": "python3"
  },
  "language_info": {
   "codemirror_mode": {
    "name": "ipython",
    "version": 3
   },
   "file_extension": ".py",
   "mimetype": "text/x-python",
   "name": "python",
   "nbconvert_exporter": "python",
   "pygments_lexer": "ipython3",
   "version": "3.10.5"
  },
  "orig_nbformat": 4,
  "vscode": {
   "interpreter": {
    "hash": "9907b05ad5677b1cfcca22bd1a12faf7a7b5a0b41431806ea6144102cc530b51"
   }
  }
 },
 "nbformat": 4,
 "nbformat_minor": 2
}
